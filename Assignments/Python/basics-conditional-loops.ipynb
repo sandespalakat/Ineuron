{
  "nbformat": 4,
  "nbformat_minor": 0,
  "metadata": {
    "colab": {
      "name": "basics-conditional-loops.ipynb",
      "provenance": []
    },
    "language_info": {
      "name": "python"
    },
    "kernelspec": {
      "name": "python3",
      "display_name": "Python 3"
    }
  },
  "cells": [
    {
      "cell_type": "markdown",
      "metadata": {
        "id": "Ky8lT-1WCvgB"
      },
      "source": [
        "basics-conditional-loops Assignments"
      ]
    },
    {
      "cell_type": "markdown",
      "metadata": {
        "id": "9K990aByC60Z"
      },
      "source": [
        "1. Write a program which will find all such numbers which are divisible by 7 but are not a multiple of 5, between 2000 and 3200 (both included). The numbers obtained should be printed\n",
        "in a comma-separated sequence on a single line."
      ]
    },
    {
      "cell_type": "code",
      "metadata": {
        "colab": {
          "base_uri": "https://localhost:8080/"
        },
        "id": "0JdzEI3iDBMq",
        "outputId": "c69d565e-f465-4e58-fc7f-38777dd7b565"
      },
      "source": [
        "numbr_str = \"\"\n",
        "for number in range(2000,3201):\n",
        "  if number % 7 == 0 and number % 5 != 0:\n",
        "    if bool(numbr_str):\n",
        "      numbr_str += \",\" + str(number)\n",
        "    else:\n",
        "      numbr_str = str(number)\n",
        "print(numbr_str)"
      ],
      "execution_count": 6,
      "outputs": [
        {
          "output_type": "stream",
          "name": "stdout",
          "text": [
            "2002,2009,2016,2023,2037,2044,2051,2058,2072,2079,2086,2093,2107,2114,2121,2128,2142,2149,2156,2163,2177,2184,2191,2198,2212,2219,2226,2233,2247,2254,2261,2268,2282,2289,2296,2303,2317,2324,2331,2338,2352,2359,2366,2373,2387,2394,2401,2408,2422,2429,2436,2443,2457,2464,2471,2478,2492,2499,2506,2513,2527,2534,2541,2548,2562,2569,2576,2583,2597,2604,2611,2618,2632,2639,2646,2653,2667,2674,2681,2688,2702,2709,2716,2723,2737,2744,2751,2758,2772,2779,2786,2793,2807,2814,2821,2828,2842,2849,2856,2863,2877,2884,2891,2898,2912,2919,2926,2933,2947,2954,2961,2968,2982,2989,2996,3003,3017,3024,3031,3038,3052,3059,3066,3073,3087,3094,3101,3108,3122,3129,3136,3143,3157,3164,3171,3178,3192,3199\n"
          ]
        }
      ]
    },
    {
      "cell_type": "markdown",
      "metadata": {
        "id": "vdh4TUbcFyO1"
      },
      "source": [
        "2. Write a Python program to accept the user's first and last name and then getting them printed in the the reverse order with a space between first name and last name."
      ]
    },
    {
      "cell_type": "code",
      "metadata": {
        "colab": {
          "base_uri": "https://localhost:8080/"
        },
        "id": "ZlYzGeCnDL59",
        "outputId": "74c4f5cb-e817-4286-ba1c-7b4365b0df5f"
      },
      "source": [
        "first_name = input(\"Enter your First name: \")\n",
        "last_name = input(\"Enter your Last name: \")\n",
        "print((first_name + \" \" + last_name)[::-1])"
      ],
      "execution_count": 7,
      "outputs": [
        {
          "output_type": "stream",
          "name": "stdout",
          "text": [
            "Enter your First name: sandes\n",
            "Enter your Last name: palakat\n",
            "takalap sednas\n"
          ]
        }
      ]
    },
    {
      "cell_type": "markdown",
      "metadata": {
        "id": "CefAlAc4HD1S"
      },
      "source": [
        "3. Write a Python program to find the volume of a sphere with diameter 12 cm."
      ]
    },
    {
      "cell_type": "code",
      "metadata": {
        "id": "MjgWAQtMHGmy",
        "outputId": "a29a01db-4dd6-41cf-f00d-5f8ba9a0f17d",
        "colab": {
          "base_uri": "https://localhost:8080/"
        }
      },
      "source": [
        "import math\n",
        "volume = (4 / 3) * math.pi * (12 ** 3)\n",
        "volume "
      ],
      "execution_count": 8,
      "outputs": [
        {
          "output_type": "execute_result",
          "data": {
            "text/plain": [
              "7238.229473870882"
            ]
          },
          "metadata": {},
          "execution_count": 8
        }
      ]
    },
    {
      "cell_type": "code",
      "metadata": {
        "id": "QzomHk4PHkBb"
      },
      "source": [
        ""
      ],
      "execution_count": null,
      "outputs": []
    }
  ]
}